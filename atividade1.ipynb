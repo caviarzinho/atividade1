{
 "cells": [
  {
   "cell_type": "code",
   "execution_count": null,
   "id": "330f737e",
   "metadata": {},
   "outputs": [
    {
     "data": {
      "text/plain": [
       "32.16666666666667"
      ]
     },
     "execution_count": 5,
     "metadata": {},
     "output_type": "execute_result"
    }
   ],
   "source": [
    "((7.0*3)+(8.5*5)+(6.0*2))/3+5+2 #Questão 3"
   ]
  },
  {
   "cell_type": "code",
   "execution_count": null,
   "id": "b8f1b8ed",
   "metadata": {},
   "outputs": [
    {
     "data": {
      "text/plain": [
       "10.0"
      ]
     },
     "execution_count": 3,
     "metadata": {},
     "output_type": "execute_result"
    }
   ],
   "source": [
    "((8-2)**2+(11-3)**2)**0.5 #Questão 2"
   ]
  },
  {
   "cell_type": "code",
   "execution_count": null,
   "id": "de3f92d3",
   "metadata": {},
   "outputs": [
    {
     "data": {
      "text/plain": [
       "7.666666666666668"
      ]
     },
     "execution_count": 2,
     "metadata": {},
     "output_type": "execute_result"
    }
   ],
   "source": [
    "((5*(10-4)**2)/3**3+2)-1 #Questão 1"
   ]
  }
 ],
 "metadata": {
  "kernelspec": {
   "display_name": "Python 3",
   "language": "python",
   "name": "python3"
  },
  "language_info": {
   "codemirror_mode": {
    "name": "ipython",
    "version": 3
   },
   "file_extension": ".py",
   "mimetype": "text/x-python",
   "name": "python",
   "nbconvert_exporter": "python",
   "pygments_lexer": "ipython3",
   "version": "3.12.1"
  }
 },
 "nbformat": 4,
 "nbformat_minor": 5
}
